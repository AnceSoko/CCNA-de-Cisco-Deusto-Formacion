{
 "cells": [
  {
   "cell_type": "markdown",
   "id": "2eabf3d2-eec1-40d2-9aca-f16d1826baf6",
   "metadata": {},
   "source": [
    "# Ejercicios módulo 1 | Conceptos básicos de Redes"
   ]
  },
  {
   "cell_type": "markdown",
   "id": "fb9461c0-7c8e-451f-b40d-d07273e49ff2",
   "metadata": {},
   "source": [
    "[View M1ejercicios.pdf](pdf/M1Ejercicios.pdf)\r\n"
   ]
  },
  {
   "cell_type": "markdown",
   "id": "e0b9a401-a53e-4e12-8b7c-877ea95d540a",
   "metadata": {},
   "source": [
    "## Respuestas:"
   ]
  },
  {
   "cell_type": "markdown",
   "id": "c3281caa-790d-42e0-ad6c-6ad88c4a4506",
   "metadata": {},
   "source": [
    "páginas 3, 4 y 5:"
   ]
  },
  {
   "cell_type": "markdown",
   "id": "a78eaa30-9955-4803-9bfb-e2e620b79e24",
   "metadata": {},
   "source": [
    "1. c) la capa 3.\n",
    "2. a) LLC  <br> d) MAC\n",
    "4. e) 00111000\n",
    "5. a) Coaxial <br>b) Por trenzado\n",
    "6. b) En la interfaz de red\n",
    "7. a) Segmento\n",
    "8. d) Broadcast\n",
    "9. e) 250\n",
    "10. c) Paquete\n",
    "11. c) 15\n",
    "12. En binario: 10101101 <br> En hexadecimal: AD\n",
    "13. En binario: 11001011 <br> En hexadecimal: 203\n",
    "14. En decimal: 147 <br> En hexadecimal: 93\n",
    "15. Dirección de red: 172.17.0.0"
   ]
  },
  {
   "cell_type": "markdown",
   "id": "31e60c25-577e-4d65-b1df-4e2e255e94f8",
   "metadata": {},
   "source": [
    "páginas 6 y 7:"
   ]
  },
  {
   "cell_type": "markdown",
   "id": "2e5fa6b5-5fd9-4524-b062-815f4514ecca",
   "metadata": {},
   "source": [
    "1. b) SMTP\n",
    "2. d) 10.10.1.0\n",
    "3. a) TCP\n",
    "4. b) DNS\n",
    "5. c) DHCP\n",
    "6. c) 128\n",
    "7. b) UDP\n",
    "8. b) 3 mensajes\n",
    "9. c) Acuse de recibo\n",
    "10. a) DHCPAddress"
   ]
  },
  {
   "cell_type": "markdown",
   "id": "b0838de8-8491-436d-ae41-ad522a8a99f2",
   "metadata": {},
   "source": [
    "página 8:"
   ]
  },
  {
   "cell_type": "markdown",
   "id": "c99e69ae-ab8f-4766-a8ec-f67575d028fc",
   "metadata": {},
   "source": [
    "11. MAC de origen: 1111.1111.1111 <br> MAC de destino: 2222.2222.2222\n",
    "12. IP origen: 172.16.1.10 <br> IP destino: 172.16.1.20\n",
    "13. MAC de origen: 1111.1111.1111 <br> MAC de destino: AAAA.AAAA.AAAA (porque PC3 se encuentra en otro red)\n",
    "14. IP origen: 172.16.1.10 <br> IP destino: 172.16.2.30"
   ]
  },
  {
   "cell_type": "markdown",
   "id": "4f01f0b8-a526-4691-be7f-1e834e598f67",
   "metadata": {},
   "source": [
    "Fin de ejericios"
   ]
  }
 ],
 "metadata": {
  "kernelspec": {
   "display_name": "Python 3 (ipykernel)",
   "language": "python",
   "name": "python3"
  },
  "language_info": {
   "codemirror_mode": {
    "name": "ipython",
    "version": 3
   },
   "file_extension": ".py",
   "mimetype": "text/x-python",
   "name": "python",
   "nbconvert_exporter": "python",
   "pygments_lexer": "ipython3",
   "version": "3.11.5"
  }
 },
 "nbformat": 4,
 "nbformat_minor": 5
}
